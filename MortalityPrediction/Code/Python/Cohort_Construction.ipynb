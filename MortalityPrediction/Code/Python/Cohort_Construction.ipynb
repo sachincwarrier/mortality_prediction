{
 "cells": [
  {
   "cell_type": "code",
   "execution_count": 1,
   "metadata": {},
   "outputs": [
    {
     "name": "stdout",
     "output_type": "stream",
     "text": [
      "Requirement already satisfied: PyAthena in /home/ec2-user/anaconda3/envs/python3/lib/python3.6/site-packages (1.8.0)\n",
      "Requirement already satisfied: boto3>=1.4.4 in /home/ec2-user/anaconda3/envs/python3/lib/python3.6/site-packages (from PyAthena) (1.10.19)\n",
      "Requirement already satisfied: botocore>=1.5.52 in /home/ec2-user/anaconda3/envs/python3/lib/python3.6/site-packages (from PyAthena) (1.13.19)\n",
      "Requirement already satisfied: tenacity>=4.1.0 in /home/ec2-user/anaconda3/envs/python3/lib/python3.6/site-packages (from PyAthena) (6.0.0)\n",
      "Requirement already satisfied: future in /home/ec2-user/anaconda3/envs/python3/lib/python3.6/site-packages (from PyAthena) (0.18.2)\n",
      "Requirement already satisfied: jmespath<1.0.0,>=0.7.1 in /home/ec2-user/anaconda3/envs/python3/lib/python3.6/site-packages (from boto3>=1.4.4->PyAthena) (0.9.4)\n",
      "Requirement already satisfied: s3transfer<0.3.0,>=0.2.0 in /home/ec2-user/anaconda3/envs/python3/lib/python3.6/site-packages (from boto3>=1.4.4->PyAthena) (0.2.1)\n",
      "Requirement already satisfied: python-dateutil<2.8.1,>=2.1; python_version >= \"2.7\" in /home/ec2-user/anaconda3/envs/python3/lib/python3.6/site-packages (from botocore>=1.5.52->PyAthena) (2.7.3)\n",
      "Requirement already satisfied: docutils<0.16,>=0.10 in /home/ec2-user/anaconda3/envs/python3/lib/python3.6/site-packages (from botocore>=1.5.52->PyAthena) (0.14)\n",
      "Requirement already satisfied: urllib3<1.26,>=1.20; python_version >= \"3.4\" in /home/ec2-user/anaconda3/envs/python3/lib/python3.6/site-packages (from botocore>=1.5.52->PyAthena) (1.25.7)\n",
      "Requirement already satisfied: six>=1.9.0 in /home/ec2-user/anaconda3/envs/python3/lib/python3.6/site-packages (from tenacity>=4.1.0->PyAthena) (1.13.0)\n"
     ]
    }
   ],
   "source": [
    "# Install OS dependencies.  This only needs to be run once for each new notebook instance.\n",
    "!pip install PyAthena"
   ]
  },
  {
   "cell_type": "code",
   "execution_count": 2,
   "metadata": {},
   "outputs": [],
   "source": [
    "from pyathena import connect\n",
    "from pyathena.util import as_pandas\n",
    "from __future__ import print_function\n",
    "\n",
    "# Import libraries\n",
    "import datetime\n",
    "import numpy as np\n",
    "import pandas as pd\n",
    "import matplotlib\n",
    "import matplotlib.pyplot as plt\n",
    "import matplotlib.ticker as ticker\n",
    "%matplotlib inline\n",
    "%config InlineBackend.figure_format = 'retina'\n",
    "import os\n",
    "import boto3\n",
    "from botocore.client import ClientError\n",
    "# below is used to print out pretty pandas dataframes\n",
    "from IPython.display import display, HTML\n",
    "%matplotlib inline\n",
    "\n",
    "\n",
    "s3 = boto3.resource('s3')\n",
    "client = boto3.client(\"sts\")\n",
    "account_id = client.get_caller_identity()[\"Account\"]\n",
    "my_session = boto3.session.Session()\n",
    "region = my_session.region_name\n",
    "athena_query_results_bucket = 'aws-athena-query-results-'+account_id+'-'+region\n",
    "\n",
    "try:\n",
    "    s3.meta.client.head_bucket(Bucket=athena_query_results_bucket)\n",
    "except ClientError:\n",
    "    bucket = s3.create_bucket(Bucket=athena_query_results_bucket)\n",
    "    print('Creating bucket '+athena_query_results_bucket)\n",
    "cursor = connect(s3_staging_dir='s3://'+athena_query_results_bucket+'/athena/temp').cursor()\n",
    "\n",
    "\n",
    "# The Glue database name of your MIMIC-III parquet data\n",
    "gluedatabase=\"mimiciii\"\n",
    "\n",
    "# location of the queries to generate aline specific materialized views\n",
    "aline_path = './'\n",
    "\n",
    "# location of the queries to generate materialized views from the MIMIC code repository\n",
    "concepts_path = './SQL/'"
   ]
  },
  {
   "cell_type": "code",
   "execution_count": 14,
   "metadata": {},
   "outputs": [
    {
     "name": "stdout",
     "output_type": "stream",
     "text": [
      "Generating table 'mp_hourly_cohort' using ./SQL/mp_hourly_cohort.sql ... done.\n"
     ]
    }
   ],
   "source": [
    "# Load in the query from file\n",
    "query='DROP TABLE IF EXISTS DATABASE.mp_hourly_cohort1;'\n",
    "cursor.execute(query.replace(\"DATABASE\", gluedatabase))\n",
    "f = os.path.join(concepts_path,'mp_hourly_cohort.sql')\n",
    "with open(f) as fp:\n",
    "    query = ''.join(fp.readlines())\n",
    "    \n",
    "# Execute the query\n",
    "print('Generating table \\'mp_hourly_cohort\\' using {} ...'.format(f),end=' ')\n",
    "cursor.execute(query.replace(\"DATABASE\", gluedatabase))\n",
    "print('done.')"
   ]
  },
  {
   "cell_type": "code",
   "execution_count": 15,
   "metadata": {},
   "outputs": [
    {
     "name": "stdout",
     "output_type": "stream",
     "text": [
      "Generating table 'mp_data' using ./SQL/mp_data.sql ... done.\n"
     ]
    }
   ],
   "source": [
    "# Load in the query from file\n",
    "query='DROP TABLE IF EXISTS DATABASE.mp_data;'\n",
    "cursor.execute(query.replace(\"DATABASE\", gluedatabase))\n",
    "f = os.path.join(concepts_path,'mp_data.sql')\n",
    "with open(f) as fp:\n",
    "    query = ''.join(fp.readlines())\n",
    "    \n",
    "# Execute the query\n",
    "print('Generating table \\'mp_data\\' using {} ...'.format(f),end=' ')\n",
    "cursor.execute(query.replace(\"DATABASE\", gluedatabase))\n",
    "print('done.')"
   ]
  },
  {
   "cell_type": "code",
   "execution_count": 16,
   "metadata": {},
   "outputs": [
    {
     "name": "stdout",
     "output_type": "stream",
     "text": [
      "Generating table 'mp_data_6hr' using ./SQL/mp_data_6hr.sql ... done.\n"
     ]
    }
   ],
   "source": [
    "# Load in the query from file\n",
    "query='DROP TABLE IF EXISTS DATABASE.mp_data_6hr;'\n",
    "cursor.execute(query.replace(\"DATABASE\", gluedatabase))\n",
    "f = os.path.join(concepts_path,'mp_data_6hr.sql')\n",
    "with open(f) as fp:\n",
    "    query = ''.join(fp.readlines())\n",
    "    \n",
    "# Execute the query\n",
    "print('Generating table \\'mp_data_6hr\\' using {} ...'.format(f),end=' ')\n",
    "cursor.execute(query.replace(\"DATABASE\", gluedatabase))\n",
    "print('done.')"
   ]
  },
  {
   "cell_type": "code",
   "execution_count": 17,
   "metadata": {},
   "outputs": [
    {
     "name": "stdout",
     "output_type": "stream",
     "text": [
      "Generating table 'mp_data_12hr' using ./SQL/mp_data_12hr.sql ... done.\n"
     ]
    }
   ],
   "source": [
    "# Load in the query from file\n",
    "query='DROP TABLE IF EXISTS DATABASE.mp_data_12hr;'\n",
    "cursor.execute(query.replace(\"DATABASE\", gluedatabase))\n",
    "f = os.path.join(concepts_path,'mp_data_12hr.sql')\n",
    "with open(f) as fp:\n",
    "    query = ''.join(fp.readlines())\n",
    "    \n",
    "# Execute the query\n",
    "print('Generating table \\'mp_data_12hr\\' using {} ...'.format(f),end=' ')\n",
    "cursor.execute(query.replace(\"DATABASE\", gluedatabase))\n",
    "print('done.')"
   ]
  },
  {
   "cell_type": "code",
   "execution_count": 18,
   "metadata": {},
   "outputs": [
    {
     "name": "stdout",
     "output_type": "stream",
     "text": [
      "Generating table 'mp_data_18hr' using ./SQL/mp_data_18hr.sql ... done.\n"
     ]
    }
   ],
   "source": [
    "# Load in the query from file\n",
    "query='DROP TABLE IF EXISTS DATABASE.mp_data_18hr;'\n",
    "cursor.execute(query.replace(\"DATABASE\", gluedatabase))\n",
    "f = os.path.join(concepts_path,'mp_data_18hr.sql')\n",
    "with open(f) as fp:\n",
    "    query = ''.join(fp.readlines())\n",
    "    \n",
    "# Execute the query\n",
    "print('Generating table \\'mp_data_18hr\\' using {} ...'.format(f),end=' ')\n",
    "cursor.execute(query.replace(\"DATABASE\", gluedatabase))\n",
    "print('done.')"
   ]
  },
  {
   "cell_type": "code",
   "execution_count": null,
   "metadata": {},
   "outputs": [],
   "source": []
  }
 ],
 "metadata": {
  "kernelspec": {
   "display_name": "conda_python3",
   "language": "python",
   "name": "conda_python3"
  },
  "language_info": {
   "codemirror_mode": {
    "name": "ipython",
    "version": 3
   },
   "file_extension": ".py",
   "mimetype": "text/x-python",
   "name": "python",
   "nbconvert_exporter": "python",
   "pygments_lexer": "ipython3",
   "version": "3.6.5"
  }
 },
 "nbformat": 4,
 "nbformat_minor": 2
}
