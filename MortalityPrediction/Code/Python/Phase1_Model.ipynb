{
 "cells": [
  {
   "cell_type": "code",
   "execution_count": 1,
   "metadata": {},
   "outputs": [
    {
     "name": "stdout",
     "output_type": "stream",
     "text": [
      "Requirement already satisfied: PyAthena in /home/ec2-user/anaconda3/envs/python2/lib/python2.7/site-packages (1.8.0)\n",
      "Requirement already satisfied: future in /home/ec2-user/anaconda3/envs/python2/lib/python2.7/site-packages (from PyAthena) (0.18.2)\n",
      "Requirement already satisfied: botocore>=1.5.52 in /home/ec2-user/anaconda3/envs/python2/lib/python2.7/site-packages (from PyAthena) (1.13.19)\n",
      "Requirement already satisfied: futures; python_version == \"2.7\" in /home/ec2-user/anaconda3/envs/python2/lib/python2.7/site-packages (from PyAthena) (3.2.0)\n",
      "Requirement already satisfied: tenacity>=4.1.0 in /home/ec2-user/anaconda3/envs/python2/lib/python2.7/site-packages (from PyAthena) (6.0.0)\n",
      "Requirement already satisfied: boto3>=1.4.4 in /home/ec2-user/anaconda3/envs/python2/lib/python2.7/site-packages (from PyAthena) (1.10.19)\n",
      "Requirement already satisfied: jmespath<1.0.0,>=0.7.1 in /home/ec2-user/anaconda3/envs/python2/lib/python2.7/site-packages (from botocore>=1.5.52->PyAthena) (0.9.4)\n",
      "Requirement already satisfied: docutils<0.16,>=0.10 in /home/ec2-user/anaconda3/envs/python2/lib/python2.7/site-packages (from botocore>=1.5.52->PyAthena) (0.14)\n",
      "Requirement already satisfied: python-dateutil<2.8.1,>=2.1; python_version >= \"2.7\" in /home/ec2-user/anaconda3/envs/python2/lib/python2.7/site-packages (from botocore>=1.5.52->PyAthena) (2.7.3)\n",
      "Requirement already satisfied: urllib3<1.26,>=1.20; python_version == \"2.7\" in /home/ec2-user/anaconda3/envs/python2/lib/python2.7/site-packages (from botocore>=1.5.52->PyAthena) (1.23)\n",
      "Requirement already satisfied: monotonic>=0.6; python_version == \"2.7\" in /home/ec2-user/anaconda3/envs/python2/lib/python2.7/site-packages (from tenacity>=4.1.0->PyAthena) (1.5)\n",
      "Requirement already satisfied: six>=1.9.0 in /home/ec2-user/anaconda3/envs/python2/lib/python2.7/site-packages (from tenacity>=4.1.0->PyAthena) (1.11.0)\n",
      "Requirement already satisfied: s3transfer<0.3.0,>=0.2.0 in /home/ec2-user/anaconda3/envs/python2/lib/python2.7/site-packages (from boto3>=1.4.4->PyAthena) (0.2.1)\n",
      "\u001b[33mYou are using pip version 10.0.1, however version 19.3.1 is available.\n",
      "You should consider upgrading via the 'pip install --upgrade pip' command.\u001b[0m\n"
     ]
    }
   ],
   "source": [
    "# Install OS dependencies.  This only needs to be run once for each new notebook instance.\n",
    "!pip install PyAthena"
   ]
  },
  {
   "cell_type": "code",
   "execution_count": 2,
   "metadata": {},
   "outputs": [
    {
     "name": "stdout",
     "output_type": "stream",
     "text": [
      "Requirement already satisfied: pydotplus in /home/ec2-user/anaconda3/envs/python2/lib/python2.7/site-packages (2.0.2)\n",
      "Requirement already satisfied: pyparsing>=2.0.1 in /home/ec2-user/anaconda3/envs/python2/lib/python2.7/site-packages (from pydotplus) (2.2.0)\n",
      "\u001b[33mYou are using pip version 10.0.1, however version 19.3.1 is available.\n",
      "You should consider upgrading via the 'pip install --upgrade pip' command.\u001b[0m\n"
     ]
    }
   ],
   "source": [
    "!pip install pydotplus"
   ]
  },
  {
   "cell_type": "code",
   "execution_count": 3,
   "metadata": {},
   "outputs": [
    {
     "name": "stderr",
     "output_type": "stream",
     "text": [
      "/home/ec2-user/anaconda3/envs/python2/lib/python2.7/site-packages/ipykernel/__main__.py:39: UserWarning: \n",
      "This call to matplotlib.use() has no effect because the backend has already\n",
      "been chosen; matplotlib.use() must be called *before* pylab, matplotlib.pyplot,\n",
      "or matplotlib.backends is imported for the first time.\n",
      "\n",
      "The backend was *originally* set to 'module://ipykernel.pylab.backend_inline' by the following code:\n",
      "  File \"/home/ec2-user/anaconda3/envs/python2/lib/python2.7/runpy.py\", line 174, in _run_module_as_main\n",
      "    \"__main__\", fname, loader, pkg_name)\n",
      "  File \"/home/ec2-user/anaconda3/envs/python2/lib/python2.7/runpy.py\", line 72, in _run_code\n",
      "    exec code in run_globals\n",
      "  File \"/home/ec2-user/anaconda3/envs/python2/lib/python2.7/site-packages/ipykernel/__main__.py\", line 3, in <module>\n",
      "    app.launch_new_instance()\n",
      "  File \"/home/ec2-user/anaconda3/envs/python2/lib/python2.7/site-packages/traitlets/config/application.py\", line 658, in launch_instance\n",
      "    app.start()\n",
      "  File \"/home/ec2-user/anaconda3/envs/python2/lib/python2.7/site-packages/ipykernel/kernelapp.py\", line 486, in start\n",
      "    self.io_loop.start()\n",
      "  File \"/home/ec2-user/anaconda3/envs/python2/lib/python2.7/site-packages/tornado/ioloop.py\", line 1008, in start\n",
      "    self._run_callback(self._callbacks.popleft())\n",
      "  File \"/home/ec2-user/anaconda3/envs/python2/lib/python2.7/site-packages/tornado/ioloop.py\", line 759, in _run_callback\n",
      "    ret = callback()\n",
      "  File \"/home/ec2-user/anaconda3/envs/python2/lib/python2.7/site-packages/tornado/stack_context.py\", line 276, in null_wrapper\n",
      "    return fn(*args, **kwargs)\n",
      "  File \"/home/ec2-user/anaconda3/envs/python2/lib/python2.7/site-packages/zmq/eventloop/zmqstream.py\", line 536, in <lambda>\n",
      "    self.io_loop.add_callback(lambda : self._handle_events(self.socket, 0))\n",
      "  File \"/home/ec2-user/anaconda3/envs/python2/lib/python2.7/site-packages/zmq/eventloop/zmqstream.py\", line 450, in _handle_events\n",
      "    self._handle_recv()\n",
      "  File \"/home/ec2-user/anaconda3/envs/python2/lib/python2.7/site-packages/zmq/eventloop/zmqstream.py\", line 480, in _handle_recv\n",
      "    self._run_callback(callback, msg)\n",
      "  File \"/home/ec2-user/anaconda3/envs/python2/lib/python2.7/site-packages/zmq/eventloop/zmqstream.py\", line 432, in _run_callback\n",
      "    callback(*args, **kwargs)\n",
      "  File \"/home/ec2-user/anaconda3/envs/python2/lib/python2.7/site-packages/tornado/stack_context.py\", line 276, in null_wrapper\n",
      "    return fn(*args, **kwargs)\n",
      "  File \"/home/ec2-user/anaconda3/envs/python2/lib/python2.7/site-packages/ipykernel/kernelbase.py\", line 283, in dispatcher\n",
      "    return self.dispatch_shell(stream, msg)\n",
      "  File \"/home/ec2-user/anaconda3/envs/python2/lib/python2.7/site-packages/ipykernel/kernelbase.py\", line 233, in dispatch_shell\n",
      "    handler(stream, idents, msg)\n",
      "  File \"/home/ec2-user/anaconda3/envs/python2/lib/python2.7/site-packages/ipykernel/kernelbase.py\", line 399, in execute_request\n",
      "    user_expressions, allow_stdin)\n",
      "  File \"/home/ec2-user/anaconda3/envs/python2/lib/python2.7/site-packages/ipykernel/ipkernel.py\", line 208, in do_execute\n",
      "    res = shell.run_cell(code, store_history=store_history, silent=silent)\n",
      "  File \"/home/ec2-user/anaconda3/envs/python2/lib/python2.7/site-packages/ipykernel/zmqshell.py\", line 537, in run_cell\n",
      "    return super(ZMQInteractiveShell, self).run_cell(*args, **kwargs)\n",
      "  File \"/home/ec2-user/anaconda3/envs/python2/lib/python2.7/site-packages/IPython/core/interactiveshell.py\", line 2714, in run_cell\n",
      "    interactivity=interactivity, compiler=compiler, result=result)\n",
      "  File \"/home/ec2-user/anaconda3/envs/python2/lib/python2.7/site-packages/IPython/core/interactiveshell.py\", line 2818, in run_ast_nodes\n",
      "    if self.run_code(code, result):\n",
      "  File \"/home/ec2-user/anaconda3/envs/python2/lib/python2.7/site-packages/IPython/core/interactiveshell.py\", line 2878, in run_code\n",
      "    exec(code_obj, self.user_global_ns, self.user_ns)\n",
      "  File \"<ipython-input-3-73775caaa3fe>\", line 3, in <module>\n",
      "    import matplotlib.pyplot as plt\n",
      "  File \"/home/ec2-user/anaconda3/envs/python2/lib/python2.7/site-packages/matplotlib/pyplot.py\", line 71, in <module>\n",
      "    from matplotlib.backends import pylab_setup\n",
      "  File \"/home/ec2-user/anaconda3/envs/python2/lib/python2.7/site-packages/matplotlib/backends/__init__.py\", line 16, in <module>\n",
      "    line for line in traceback.format_stack()\n",
      "\n",
      "\n"
     ]
    }
   ],
   "source": [
    "import numpy as np\n",
    "import pandas as pd\n",
    "import matplotlib.pyplot as plt\n",
    "from pandas import DataFrame\n",
    "from sklearn import neighbors\n",
    "import seaborn as sns\n",
    "from sklearn import metrics\n",
    "from sklearn.preprocessing import MinMaxScaler\n",
    "from sklearn.preprocessing import StandardScaler\n",
    "from sklearn import model_selection\n",
    "from sklearn.metrics import classification_report\n",
    "from sklearn.metrics import confusion_matrix\n",
    "from sklearn.metrics import accuracy_score\n",
    "from sklearn.metrics import roc_curve, auc\n",
    "from sklearn.linear_model import LogisticRegression\n",
    "from sklearn.tree import DecisionTreeClassifier\n",
    "from sklearn.neighbors import KNeighborsClassifier\n",
    "from sklearn.discriminant_analysis import LinearDiscriminantAnalysis\n",
    "from sklearn.naive_bayes import GaussianNB\n",
    "from sklearn.svm import LinearSVC\n",
    "from sklearn.metrics import *\n",
    "from sklearn.model_selection import KFold\n",
    "from numpy import mean, array\n",
    "from sklearn.model_selection import ShuffleSplit\n",
    "from sklearn.svm import SVC\n",
    "from sklearn import preprocessing\n",
    "from sklearn.model_selection import train_test_split\n",
    "from sklearn.externals.six import StringIO\n",
    "from IPython.display import Image\n",
    "from sklearn.tree import export_graphviz\n",
    "import pydotplus\n",
    "from sklearn.model_selection import GridSearchCV\n",
    "from sklearn.neural_network import MLPClassifier\n",
    "from sklearn.ensemble import RandomForestClassifier\n",
    "from sklearn.metrics import roc_curve\n",
    "from sklearn.metrics import roc_auc_score\n",
    "from sklearn import svm\n",
    "import matplotlib\n",
    "matplotlib.use('Agg')"
   ]
  },
  {
   "cell_type": "code",
   "execution_count": 4,
   "metadata": {},
   "outputs": [],
   "source": [
    "def printResults(Y_test, predictions):\n",
    "    #print(\"\\nTraining error: \" + str(training_error))\n",
    "    print(\"Accuracy: \"+str(accuracy_score(Y_test, predictions)))\n",
    "    print(confusion_matrix(Y_test, predictions))\n",
    "    print(classification_report(Y_test, predictions))\n",
    "    #print(\"False -ve = \" + str(confusion_matrix(Y_test, predictions)[1][0] / (confusion_matrix(Y_test, predictions)[1][0]+confusion_matrix(Y_test, predictions)[0][0])))"
   ]
  },
  {
   "cell_type": "code",
   "execution_count": 5,
   "metadata": {},
   "outputs": [],
   "source": [
    "X6_train=pd.read_csv('./Data/X6_train.csv',index_col=False)\n",
    "Y6_train=pd.read_csv('./Data/Y6_train.csv').iloc[:,-1]\n",
    "\n",
    "X12_train=pd.read_csv('./Data/X12_train.csv',index_col=False)\n",
    "Y12_train=pd.read_csv('./Data/Y12_train.csv').iloc[:,-1]\n",
    "\n",
    "X18_train=pd.read_csv('./Data/X18_train.csv',index_col=False)\n",
    "Y18_train=pd.read_csv('./Data/Y18_train.csv').iloc[:,-1]"
   ]
  },
  {
   "cell_type": "code",
   "execution_count": 6,
   "metadata": {},
   "outputs": [],
   "source": [
    "X6_test=pd.read_csv('./Data/X6_test.csv', index_col=False)\n",
    "Y6_test=pd.read_csv('./Data/Y6_test.csv').iloc[:,-1]\n",
    "\n",
    "X12_test=pd.read_csv('./Data/X12_test.csv', index_col=False)\n",
    "Y12_test=pd.read_csv('./Data/Y12_test.csv').iloc[:,-1]\n",
    "\n",
    "X18_test=pd.read_csv('./Data/X18_test.csv', index_col=False)\n",
    "Y18_test=pd.read_csv('./Data/Y18_test.csv').iloc[:,-1]"
   ]
  },
  {
   "cell_type": "code",
   "execution_count": 7,
   "metadata": {},
   "outputs": [],
   "source": [
    "matplotlib.rcParams.update({'font.size': 15})"
   ]
  },
  {
   "cell_type": "code",
   "execution_count": 8,
   "metadata": {},
   "outputs": [],
   "source": [
    "def logistic_regression_pred(X_train, Y_train, X_test):\n",
    "    log_reg_clsf_c = LogisticRegression(C = 10, penalty='l2').fit(X_train,Y_train)\n",
    "    predictions = log_reg_clsf_c.predict(X_test)\n",
    "    training_error = log_reg_clsf_c.score(X_train,Y_train)\n",
    "    return predictions"
   ]
  },
  {
   "cell_type": "code",
   "execution_count": 9,
   "metadata": {},
   "outputs": [],
   "source": [
    "def random_forest_pred(X_train, Y_train, X_test):\n",
    "    rnd_frst_clsf_c = RandomForestClassifier(n_estimators = 100, max_depth=6, n_jobs=4, oob_score=True).fit(X_train, Y_train)\n",
    "    predictions = rnd_frst_clsf_c.predict(X_test)\n",
    "    return predictions"
   ]
  },
  {
   "cell_type": "code",
   "execution_count": 10,
   "metadata": {},
   "outputs": [],
   "source": [
    "def neural_ntwrk_pred(X_train, Y_train, X_test):\n",
    "    neural_ntwrk_clsf_c = MLPClassifier(activation='relu', hidden_layer_sizes=(9, 7)).fit(X_train,Y_train)\n",
    "    predictions = neural_ntwrk_clsf_c.predict(X_test)\n",
    "    return predictions"
   ]
  },
  {
   "cell_type": "code",
   "execution_count": 11,
   "metadata": {},
   "outputs": [],
   "source": [
    "def svm_pred(X_train, Y_train, X_test):\n",
    "    #TODO:train a SVM classifier using X_train and Y_train. Use this to predict labels of X_test\n",
    "    svm_clasf_c = LinearSVC().fit(X_train,Y_train)\n",
    "    predictions = svm_clasf_c.predict(X_test)\n",
    "    return predictions"
   ]
  },
  {
   "cell_type": "code",
   "execution_count": 12,
   "metadata": {},
   "outputs": [],
   "source": [
    "def decisionTree_pred(X_train, Y_train, X_test):\n",
    "    desc_tree_clasf_c = DecisionTreeClassifier(max_depth=5).fit(X_train,Y_train)\n",
    "    predictions = desc_tree_clasf_c.predict(X_test)\n",
    "    return predictions"
   ]
  },
  {
   "cell_type": "code",
   "execution_count": 13,
   "metadata": {},
   "outputs": [],
   "source": [
    "def classification_metrics(Y_pred, Y_true ):\n",
    "    accuracy_c = accuracy_score(Y_pred,Y_true)\n",
    "    auc_c = roc_auc_score(Y_pred,Y_true)\n",
    "    precision_c = precision_score(Y_pred,Y_true)\n",
    "    recall_c = recall_score(Y_pred,Y_true)\n",
    "    f_Score_c = f1_score(Y_pred,Y_true)\n",
    "    return accuracy_c,auc_c,precision_c,recall_c,f_Score_c"
   ]
  },
  {
   "cell_type": "code",
   "execution_count": 14,
   "metadata": {},
   "outputs": [],
   "source": [
    "def display_metrics(classifierName,Y_pred,Y_true):\n",
    "    print(\"______________________________________________\")\n",
    "    print((\"Classifier: \"+classifierName))\n",
    "    acc, auc_, precision, recall, f1score = classification_metrics(Y_pred,Y_true)\n",
    "    print((\"Accuracy: \"+str(acc)))\n",
    "    print((\"AUC: \"+str(auc_)))\n",
    "    print((\"Precision: \"+str(precision)))\n",
    "    print((\"Recall: \"+str(recall)))\n",
    "    print((\"F1-score: \"+str(f1score)))\n",
    "    #print(\"Training error: \" + str(training_error))\n",
    "    print(\"______________________________________________\")\n",
    "    print(\"\")\n",
    "    printResults(Y_true, Y_pred)\n"
   ]
  },
  {
   "cell_type": "code",
   "execution_count": 15,
   "metadata": {},
   "outputs": [
    {
     "name": "stderr",
     "output_type": "stream",
     "text": [
      "/home/ec2-user/anaconda3/envs/python2/lib/python2.7/site-packages/sklearn/linear_model/logistic.py:433: FutureWarning: Default solver will be changed to 'lbfgs' in 0.22. Specify a solver to silence this warning.\n",
      "  FutureWarning)\n"
     ]
    },
    {
     "name": "stdout",
     "output_type": "stream",
     "text": [
      "______________________________________________\n",
      "Classifier: Logistic Regression\n",
      "Accuracy: 0.9477533960292581\n",
      "AUC: 0.9530956848030019\n",
      "Precision: 1.0\n",
      "Recall: 0.9061913696060038\n",
      "F1-score: 0.9507874015748031\n",
      "______________________________________________\n",
      "\n",
      "Accuracy: 0.9477533960292581\n",
      "[[848 100]\n",
      " [  0 966]]\n",
      "              precision    recall  f1-score   support\n",
      "\n",
      "           0       1.00      0.89      0.94       948\n",
      "           1       0.91      1.00      0.95       966\n",
      "\n",
      "   micro avg       0.95      0.95      0.95      1914\n",
      "   macro avg       0.95      0.95      0.95      1914\n",
      "weighted avg       0.95      0.95      0.95      1914\n",
      "\n"
     ]
    }
   ],
   "source": [
    "    display_metrics(\"Logistic Regression\",logistic_regression_pred(X6_train,Y6_train,X6_test),Y6_test)"
   ]
  },
  {
   "cell_type": "code",
   "execution_count": 16,
   "metadata": {},
   "outputs": [
    {
     "name": "stdout",
     "output_type": "stream",
     "text": [
      "______________________________________________\n",
      "Classifier: Logistic Regression\n",
      "Accuracy: 0.9532054281703323\n",
      "AUC: 0.956633692173407\n",
      "Precision: 0.9990539262062441\n",
      "Recall: 0.9142857142857143\n",
      "F1-score: 0.9547920433996384\n",
      "______________________________________________\n",
      "\n",
      "Accuracy: 0.9532054281703323\n",
      "[[ 981   99]\n",
      " [   1 1056]]\n",
      "              precision    recall  f1-score   support\n",
      "\n",
      "           0       1.00      0.91      0.95      1080\n",
      "           1       0.91      1.00      0.95      1057\n",
      "\n",
      "   micro avg       0.95      0.95      0.95      2137\n",
      "   macro avg       0.96      0.95      0.95      2137\n",
      "weighted avg       0.96      0.95      0.95      2137\n",
      "\n"
     ]
    }
   ],
   "source": [
    "  display_metrics(\"Logistic Regression\",logistic_regression_pred(X12_train,Y12_train,X12_test),Y12_test)"
   ]
  },
  {
   "cell_type": "code",
   "execution_count": 17,
   "metadata": {},
   "outputs": [
    {
     "name": "stdout",
     "output_type": "stream",
     "text": [
      "______________________________________________\n",
      "Classifier: Logistic Regression\n",
      "Accuracy: 0.9492455418381345\n",
      "AUC: 0.9550819362286859\n",
      "Precision: 0.9991150442477876\n",
      "Recall: 0.9112187247780468\n",
      "F1-score: 0.953144786829886\n",
      "______________________________________________\n",
      "\n",
      "Accuracy: 0.9492455418381345\n",
      "[[ 947  110]\n",
      " [   1 1129]]\n",
      "              precision    recall  f1-score   support\n",
      "\n",
      "           0       1.00      0.90      0.94      1057\n",
      "           1       0.91      1.00      0.95      1130\n",
      "\n",
      "   micro avg       0.95      0.95      0.95      2187\n",
      "   macro avg       0.96      0.95      0.95      2187\n",
      "weighted avg       0.95      0.95      0.95      2187\n",
      "\n"
     ]
    }
   ],
   "source": [
    "  display_metrics(\"Logistic Regression\",logistic_regression_pred(X18_train,Y18_train,X18_test),Y18_test)"
   ]
  },
  {
   "cell_type": "code",
   "execution_count": 18,
   "metadata": {},
   "outputs": [
    {
     "name": "stdout",
     "output_type": "stream",
     "text": [
      "______________________________________________\n",
      "Classifier: Decision Tree\n",
      "Accuracy: 0.9644723092998955\n",
      "AUC: 0.9646665734290184\n",
      "Precision: 0.9730848861283644\n",
      "Recall: 0.9572301425661914\n",
      "F1-score: 0.9650924024640657\n",
      "______________________________________________\n",
      "\n",
      "Accuracy: 0.9644723092998955\n",
      "[[906  42]\n",
      " [ 26 940]]\n",
      "              precision    recall  f1-score   support\n",
      "\n",
      "           0       0.97      0.96      0.96       948\n",
      "           1       0.96      0.97      0.97       966\n",
      "\n",
      "   micro avg       0.96      0.96      0.96      1914\n",
      "   macro avg       0.96      0.96      0.96      1914\n",
      "weighted avg       0.96      0.96      0.96      1914\n",
      "\n"
     ]
    }
   ],
   "source": [
    "    display_metrics(\"Decision Tree\",decisionTree_pred(X6_train,Y6_train,X6_test),Y6_test)"
   ]
  },
  {
   "cell_type": "code",
   "execution_count": 19,
   "metadata": {},
   "outputs": [
    {
     "name": "stdout",
     "output_type": "stream",
     "text": [
      "______________________________________________\n",
      "Classifier: Decision Tree\n",
      "Accuracy: 0.9681796911558259\n",
      "AUC: 0.9682521329339009\n",
      "Precision: 0.9772942289498581\n",
      "Recall: 0.9591457753017641\n",
      "F1-score: 0.9681349578256794\n",
      "______________________________________________\n",
      "\n",
      "Accuracy: 0.9681796911558259\n",
      "[[1036   44]\n",
      " [  24 1033]]\n",
      "              precision    recall  f1-score   support\n",
      "\n",
      "           0       0.98      0.96      0.97      1080\n",
      "           1       0.96      0.98      0.97      1057\n",
      "\n",
      "   micro avg       0.97      0.97      0.97      2137\n",
      "   macro avg       0.97      0.97      0.97      2137\n",
      "weighted avg       0.97      0.97      0.97      2137\n",
      "\n"
     ]
    }
   ],
   "source": [
    "    display_metrics(\"Decision Tree\",decisionTree_pred(X12_train,Y12_train,X12_test),Y12_test)"
   ]
  },
  {
   "cell_type": "code",
   "execution_count": 20,
   "metadata": {},
   "outputs": [
    {
     "name": "stdout",
     "output_type": "stream",
     "text": [
      "______________________________________________\n",
      "Classifier: Decision Tree\n",
      "Accuracy: 0.9638774577046182\n",
      "AUC: 0.9653162512512934\n",
      "Precision: 0.9858407079646018\n",
      "Recall: 0.9464740866610025\n",
      "F1-score: 0.9657563935847421\n",
      "______________________________________________\n",
      "\n",
      "Accuracy: 0.9638774577046182\n",
      "[[ 994   63]\n",
      " [  16 1114]]\n",
      "              precision    recall  f1-score   support\n",
      "\n",
      "           0       0.98      0.94      0.96      1057\n",
      "           1       0.95      0.99      0.97      1130\n",
      "\n",
      "   micro avg       0.96      0.96      0.96      2187\n",
      "   macro avg       0.97      0.96      0.96      2187\n",
      "weighted avg       0.96      0.96      0.96      2187\n",
      "\n"
     ]
    }
   ],
   "source": [
    "    display_metrics(\"Decision Tree\",decisionTree_pred(X18_train,Y18_train,X18_test),Y18_test)"
   ]
  },
  {
   "cell_type": "code",
   "execution_count": 21,
   "metadata": {},
   "outputs": [
    {
     "name": "stdout",
     "output_type": "stream",
     "text": [
      "______________________________________________\n",
      "Classifier: SVM\n",
      "Accuracy: 0.9456635318704284\n",
      "AUC: 0.9511880096687653\n",
      "Precision: 0.9989648033126294\n",
      "Recall: 0.903558052434457\n",
      "F1-score: 0.9488692232055064\n",
      "______________________________________________\n",
      "\n",
      "Accuracy: 0.9456635318704284\n",
      "[[845 103]\n",
      " [  1 965]]\n",
      "              precision    recall  f1-score   support\n",
      "\n",
      "           0       1.00      0.89      0.94       948\n",
      "           1       0.90      1.00      0.95       966\n",
      "\n",
      "   micro avg       0.95      0.95      0.95      1914\n",
      "   macro avg       0.95      0.95      0.95      1914\n",
      "weighted avg       0.95      0.95      0.95      1914\n",
      "\n"
     ]
    }
   ],
   "source": [
    "    display_metrics(\"SVM\",svm_pred(X6_train,Y6_train,X6_test),Y6_test)"
   ]
  },
  {
   "cell_type": "code",
   "execution_count": 22,
   "metadata": {},
   "outputs": [
    {
     "name": "stdout",
     "output_type": "stream",
     "text": [
      "______________________________________________\n",
      "Classifier: SVM\n",
      "Accuracy: 0.9518015910154423\n",
      "AUC: 0.9554478239929716\n",
      "Precision: 0.9990539262062441\n",
      "Recall: 0.9119170984455959\n",
      "F1-score: 0.9534988713318284\n",
      "______________________________________________\n",
      "\n",
      "Accuracy: 0.9518015910154423\n",
      "[[ 978  102]\n",
      " [   1 1056]]\n",
      "              precision    recall  f1-score   support\n",
      "\n",
      "           0       1.00      0.91      0.95      1080\n",
      "           1       0.91      1.00      0.95      1057\n",
      "\n",
      "   micro avg       0.95      0.95      0.95      2137\n",
      "   macro avg       0.96      0.95      0.95      2137\n",
      "weighted avg       0.96      0.95      0.95      2137\n",
      "\n"
     ]
    }
   ],
   "source": [
    "    display_metrics(\"SVM\",svm_pred(X12_train,Y12_train,X12_test),Y12_test)"
   ]
  },
  {
   "cell_type": "code",
   "execution_count": 23,
   "metadata": {},
   "outputs": [
    {
     "name": "stdout",
     "output_type": "stream",
     "text": [
      "______________________________________________\n",
      "Classifier: SVM\n",
      "Accuracy: 0.9492455418381345\n",
      "AUC: 0.9552780016116036\n",
      "Precision: 1.0\n",
      "Recall: 0.9105560032232071\n",
      "F1-score: 0.9531843104175453\n",
      "______________________________________________\n",
      "\n",
      "Accuracy: 0.9492455418381345\n",
      "[[ 946  111]\n",
      " [   0 1130]]\n",
      "              precision    recall  f1-score   support\n",
      "\n",
      "           0       1.00      0.89      0.94      1057\n",
      "           1       0.91      1.00      0.95      1130\n",
      "\n",
      "   micro avg       0.95      0.95      0.95      2187\n",
      "   macro avg       0.96      0.95      0.95      2187\n",
      "weighted avg       0.95      0.95      0.95      2187\n",
      "\n"
     ]
    }
   ],
   "source": [
    "    display_metrics(\"SVM\",svm_pred(X18_train,Y18_train,X18_test),Y18_test)"
   ]
  },
  {
   "cell_type": "code",
   "execution_count": 24,
   "metadata": {},
   "outputs": [
    {
     "name": "stdout",
     "output_type": "stream",
     "text": [
      "______________________________________________\n",
      "Classifier: Random  Forest\n",
      "Accuracy: 0.9686520376175548\n",
      "AUC: 0.9698326469815123\n",
      "Precision: 0.9917184265010351\n",
      "Recall: 0.9485148514851485\n",
      "F1-score: 0.9696356275303644\n",
      "______________________________________________\n",
      "\n",
      "Accuracy: 0.9686520376175548\n",
      "[[896  52]\n",
      " [  8 958]]\n",
      "              precision    recall  f1-score   support\n",
      "\n",
      "           0       0.99      0.95      0.97       948\n",
      "           1       0.95      0.99      0.97       966\n",
      "\n",
      "   micro avg       0.97      0.97      0.97      1914\n",
      "   macro avg       0.97      0.97      0.97      1914\n",
      "weighted avg       0.97      0.97      0.97      1914\n",
      "\n"
     ]
    }
   ],
   "source": [
    "    display_metrics(\"Random  Forest\",random_forest_pred(X6_train,Y6_train,X6_test),Y6_test)"
   ]
  },
  {
   "cell_type": "code",
   "execution_count": 25,
   "metadata": {},
   "outputs": [
    {
     "name": "stdout",
     "output_type": "stream",
     "text": [
      "______________________________________________\n",
      "Classifier: Random  Forest\n",
      "Accuracy: 0.972391202620496\n",
      "AUC: 0.9728429114341207\n",
      "Precision: 0.9905392620624409\n",
      "Recall: 0.9552919708029197\n",
      "F1-score: 0.9725963771481654\n",
      "______________________________________________\n",
      "\n",
      "Accuracy: 0.972391202620496\n",
      "[[1031   49]\n",
      " [  10 1047]]\n",
      "              precision    recall  f1-score   support\n",
      "\n",
      "           0       0.99      0.95      0.97      1080\n",
      "           1       0.96      0.99      0.97      1057\n",
      "\n",
      "   micro avg       0.97      0.97      0.97      2137\n",
      "   macro avg       0.97      0.97      0.97      2137\n",
      "weighted avg       0.97      0.97      0.97      2137\n",
      "\n"
     ]
    }
   ],
   "source": [
    "    display_metrics(\"Random  Forest\",random_forest_pred(X12_train,Y12_train,X12_test),Y12_test)"
   ]
  },
  {
   "cell_type": "code",
   "execution_count": 26,
   "metadata": {},
   "outputs": [
    {
     "name": "stdout",
     "output_type": "stream",
     "text": [
      "______________________________________________\n",
      "Classifier: Random  Forest\n",
      "Accuracy: 0.9629629629629629\n",
      "AUC: 0.9649351305812974\n",
      "Precision: 0.9893805309734514\n",
      "Recall: 0.9418702611625948\n",
      "F1-score: 0.9650410012947778\n",
      "______________________________________________\n",
      "\n",
      "Accuracy: 0.9629629629629629\n",
      "[[ 988   69]\n",
      " [  12 1118]]\n",
      "              precision    recall  f1-score   support\n",
      "\n",
      "           0       0.99      0.93      0.96      1057\n",
      "           1       0.94      0.99      0.97      1130\n",
      "\n",
      "   micro avg       0.96      0.96      0.96      2187\n",
      "   macro avg       0.96      0.96      0.96      2187\n",
      "weighted avg       0.96      0.96      0.96      2187\n",
      "\n"
     ]
    }
   ],
   "source": [
    "    display_metrics(\"Random  Forest\",random_forest_pred(X18_train,Y18_train,X18_test),Y18_test)"
   ]
  },
  {
   "cell_type": "code",
   "execution_count": 27,
   "metadata": {},
   "outputs": [
    {
     "name": "stdout",
     "output_type": "stream",
     "text": [
      "______________________________________________\n",
      "Classifier: Neural Network\n",
      "Accuracy: 0.9670846394984326\n",
      "AUC: 0.9685205784204671\n",
      "Precision: 0.9927536231884058\n",
      "Recall: 0.9448275862068966\n",
      "F1-score: 0.9681978798586572\n",
      "______________________________________________\n",
      "\n",
      "Accuracy: 0.9670846394984326\n",
      "[[892  56]\n",
      " [  7 959]]\n",
      "              precision    recall  f1-score   support\n",
      "\n",
      "           0       0.99      0.94      0.97       948\n",
      "           1       0.94      0.99      0.97       966\n",
      "\n",
      "   micro avg       0.97      0.97      0.97      1914\n",
      "   macro avg       0.97      0.97      0.97      1914\n",
      "weighted avg       0.97      0.97      0.97      1914\n",
      "\n"
     ]
    }
   ],
   "source": [
    "    display_metrics(\"Neural Network\",neural_ntwrk_pred(X6_train,Y6_train,X6_test),Y6_test)"
   ]
  },
  {
   "cell_type": "code",
   "execution_count": 28,
   "metadata": {},
   "outputs": [
    {
     "name": "stdout",
     "output_type": "stream",
     "text": [
      "______________________________________________\n",
      "Classifier: Neural Network\n",
      "Accuracy: 0.9747309312119794\n",
      "AUC: 0.9753343748575356\n",
      "Precision: 0.9952696310312205\n",
      "Recall: 0.9554950045413261\n",
      "F1-score: 0.9749768303985171\n",
      "______________________________________________\n",
      "\n",
      "Accuracy: 0.9747309312119794\n",
      "[[1031   49]\n",
      " [   5 1052]]\n",
      "              precision    recall  f1-score   support\n",
      "\n",
      "           0       1.00      0.95      0.97      1080\n",
      "           1       0.96      1.00      0.97      1057\n",
      "\n",
      "   micro avg       0.97      0.97      0.97      2137\n",
      "   macro avg       0.98      0.97      0.97      2137\n",
      "weighted avg       0.98      0.97      0.97      2137\n",
      "\n"
     ]
    }
   ],
   "source": [
    "  display_metrics(\"Neural Network\",neural_ntwrk_pred(X12_train,Y12_train,X12_test),Y12_test)"
   ]
  },
  {
   "cell_type": "code",
   "execution_count": 29,
   "metadata": {},
   "outputs": [
    {
     "name": "stdout",
     "output_type": "stream",
     "text": [
      "______________________________________________\n",
      "Classifier: Neural Network\n",
      "Accuracy: 0.9670781893004116\n",
      "AUC: 0.967586122431175\n",
      "Precision: 0.9787610619469026\n",
      "Recall: 0.9584055459272097\n",
      "F1-score: 0.968476357267951\n",
      "______________________________________________\n",
      "\n",
      "Accuracy: 0.9670781893004116\n",
      "[[1009   48]\n",
      " [  24 1106]]\n",
      "              precision    recall  f1-score   support\n",
      "\n",
      "           0       0.98      0.95      0.97      1057\n",
      "           1       0.96      0.98      0.97      1130\n",
      "\n",
      "   micro avg       0.97      0.97      0.97      2187\n",
      "   macro avg       0.97      0.97      0.97      2187\n",
      "weighted avg       0.97      0.97      0.97      2187\n",
      "\n"
     ]
    }
   ],
   "source": [
    "  display_metrics(\"Neural Network\",neural_ntwrk_pred(X18_train,Y18_train,X18_test),Y18_test)"
   ]
  }
 ],
 "metadata": {
  "kernelspec": {
   "display_name": "conda_python2",
   "language": "python",
   "name": "conda_python2"
  },
  "language_info": {
   "codemirror_mode": {
    "name": "ipython",
    "version": 2
   },
   "file_extension": ".py",
   "mimetype": "text/x-python",
   "name": "python",
   "nbconvert_exporter": "python",
   "pygments_lexer": "ipython2",
   "version": "2.7.15"
  }
 },
 "nbformat": 4,
 "nbformat_minor": 2
}
