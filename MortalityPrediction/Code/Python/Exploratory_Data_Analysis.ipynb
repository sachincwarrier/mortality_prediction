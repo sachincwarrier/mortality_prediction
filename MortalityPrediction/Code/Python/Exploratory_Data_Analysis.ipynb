{
 "cells": [
  {
   "cell_type": "code",
   "execution_count": 2,
   "metadata": {},
   "outputs": [
    {
     "name": "stdout",
     "output_type": "stream",
     "text": [
      "Requirement already satisfied: PyAthena in /home/ec2-user/anaconda3/envs/python3/lib/python3.6/site-packages (1.8.0)\n",
      "Requirement already satisfied: boto3>=1.4.4 in /home/ec2-user/anaconda3/envs/python3/lib/python3.6/site-packages (from PyAthena) (1.10.19)\n",
      "Requirement already satisfied: botocore>=1.5.52 in /home/ec2-user/anaconda3/envs/python3/lib/python3.6/site-packages (from PyAthena) (1.13.19)\n",
      "Requirement already satisfied: future in /home/ec2-user/anaconda3/envs/python3/lib/python3.6/site-packages (from PyAthena) (0.18.2)\n",
      "Requirement already satisfied: tenacity>=4.1.0 in /home/ec2-user/anaconda3/envs/python3/lib/python3.6/site-packages (from PyAthena) (6.0.0)\n",
      "Requirement already satisfied: jmespath<1.0.0,>=0.7.1 in /home/ec2-user/anaconda3/envs/python3/lib/python3.6/site-packages (from boto3>=1.4.4->PyAthena) (0.9.4)\n",
      "Requirement already satisfied: s3transfer<0.3.0,>=0.2.0 in /home/ec2-user/anaconda3/envs/python3/lib/python3.6/site-packages (from boto3>=1.4.4->PyAthena) (0.2.1)\n",
      "Requirement already satisfied: urllib3<1.26,>=1.20; python_version >= \"3.4\" in /home/ec2-user/anaconda3/envs/python3/lib/python3.6/site-packages (from botocore>=1.5.52->PyAthena) (1.25.7)\n",
      "Requirement already satisfied: python-dateutil<2.8.1,>=2.1; python_version >= \"2.7\" in /home/ec2-user/anaconda3/envs/python3/lib/python3.6/site-packages (from botocore>=1.5.52->PyAthena) (2.7.3)\n",
      "Requirement already satisfied: docutils<0.16,>=0.10 in /home/ec2-user/anaconda3/envs/python3/lib/python3.6/site-packages (from botocore>=1.5.52->PyAthena) (0.14)\n",
      "Requirement already satisfied: six>=1.9.0 in /home/ec2-user/anaconda3/envs/python3/lib/python3.6/site-packages (from tenacity>=4.1.0->PyAthena) (1.13.0)\n"
     ]
    }
   ],
   "source": [
    "# Install OS dependencies.  This only needs to be run once for each new notebook instance.\n",
    "!pip install PyAthena"
   ]
  },
  {
   "cell_type": "code",
   "execution_count": 3,
   "metadata": {},
   "outputs": [],
   "source": [
    "from pyathena import connect\n",
    "from pyathena.util import as_pandas\n",
    "from __future__ import print_function\n",
    "\n",
    "# Import libraries\n",
    "import datetime\n",
    "import numpy as np\n",
    "import pandas as pd\n",
    "import matplotlib\n",
    "import matplotlib.pyplot as plt\n",
    "import matplotlib.ticker as ticker\n",
    "%matplotlib inline\n",
    "%config InlineBackend.figure_format = 'retina'\n",
    "import os\n",
    "import boto3\n",
    "from botocore.client import ClientError\n",
    "# below is used to print out pretty pandas dataframes\n",
    "from IPython.display import display, HTML\n",
    "%matplotlib inline\n",
    "\n",
    "\n",
    "s3 = boto3.resource('s3')\n",
    "client = boto3.client(\"sts\")\n",
    "account_id = client.get_caller_identity()[\"Account\"]\n",
    "my_session = boto3.session.Session()\n",
    "region = my_session.region_name\n",
    "athena_query_results_bucket = 'aws-athena-query-results-'+account_id+'-'+region\n",
    "\n",
    "try:\n",
    "    s3.meta.client.head_bucket(Bucket=athena_query_results_bucket)\n",
    "except ClientError:\n",
    "    bucket = s3.create_bucket(Bucket=athena_query_results_bucket)\n",
    "    print('Creating bucket '+athena_query_results_bucket)\n",
    "cursor = connect(s3_staging_dir='s3://'+athena_query_results_bucket+'/athena/temp').cursor()\n",
    "\n",
    "\n",
    "# The Glue database name of your MIMIC-III parquet data\n",
    "gluedatabase=\"mimiciii\"\n",
    "\n",
    "# location of the queries to generate aline specific materialized views\n",
    "aline_path = './'\n",
    "\n",
    "# location of the queries to generate materialized views from the MIMIC code repository\n",
    "concepts_path = './SQL/'"
   ]
  },
  {
   "cell_type": "code",
   "execution_count": 4,
   "metadata": {},
   "outputs": [
    {
     "name": "stdout",
     "output_type": "stream",
     "text": [
      "Number of distinct ICU stays:  61532\n",
      "Number of distinct patients:  46520\n"
     ]
    }
   ],
   "source": [
    "query = 'select * from DATABASE.icustays'\n",
    "cursor.execute(query.replace(\"DATABASE\", gluedatabase))\n",
    "icustays = as_pandas(cursor)\n",
    "print('Number of distinct ICU stays: ', icustays.icustay_id.unique().shape[0])\n",
    "\n",
    "query = 'select * from DATABASE.patients'\n",
    "cursor.execute(query.replace(\"DATABASE\", gluedatabase))\n",
    "patients = as_pandas(cursor)\n",
    "print('Number of distinct patients: ', patients.subject_id.unique().shape[0])"
   ]
  },
  {
   "cell_type": "code",
   "execution_count": 5,
   "metadata": {},
   "outputs": [
    {
     "name": "stdout",
     "output_type": "stream",
     "text": [
      "(60186, 25)\n"
     ]
    },
    {
     "data": {
      "text/html": [
       "<div>\n",
       "<style scoped>\n",
       "    .dataframe tbody tr th:only-of-type {\n",
       "        vertical-align: middle;\n",
       "    }\n",
       "\n",
       "    .dataframe tbody tr th {\n",
       "        vertical-align: top;\n",
       "    }\n",
       "\n",
       "    .dataframe thead th {\n",
       "        text-align: right;\n",
       "    }\n",
       "</style>\n",
       "<table border=\"1\" class=\"dataframe\">\n",
       "  <thead>\n",
       "    <tr style=\"text-align: right;\">\n",
       "      <th></th>\n",
       "      <th>subject_id</th>\n",
       "      <th>hadm_id</th>\n",
       "      <th>icustay_id</th>\n",
       "      <th>dbsource</th>\n",
       "      <th>intime</th>\n",
       "      <th>outtime</th>\n",
       "      <th>age</th>\n",
       "      <th>gender</th>\n",
       "      <th>ethnicity</th>\n",
       "      <th>admission_type</th>\n",
       "      <th>...</th>\n",
       "      <th>hosp_los</th>\n",
       "      <th>hosp_deathtime_hours</th>\n",
       "      <th>deathtime_hours</th>\n",
       "      <th>deadthtime_check</th>\n",
       "      <th>exclusion_adult</th>\n",
       "      <th>exclusion_valid_data</th>\n",
       "      <th>exclusion_short_stay_4hr</th>\n",
       "      <th>exclusion_short_stay_1hr</th>\n",
       "      <th>exclusion_organ_donor</th>\n",
       "      <th>excluded</th>\n",
       "    </tr>\n",
       "  </thead>\n",
       "  <tbody>\n",
       "    <tr>\n",
       "      <th>0</th>\n",
       "      <td>96169</td>\n",
       "      <td>169105</td>\n",
       "      <td>299561</td>\n",
       "      <td>metavision</td>\n",
       "      <td>2174-07-16 18:00:00</td>\n",
       "      <td>2174-07-17 12:00:00</td>\n",
       "      <td>48</td>\n",
       "      <td>M</td>\n",
       "      <td>WHITE</td>\n",
       "      <td>EMERGENCY</td>\n",
       "      <td>...</td>\n",
       "      <td>339060</td>\n",
       "      <td>NaN</td>\n",
       "      <td>NaN</td>\n",
       "      <td>NaT</td>\n",
       "      <td>0</td>\n",
       "      <td>0</td>\n",
       "      <td>0</td>\n",
       "      <td>0</td>\n",
       "      <td>0</td>\n",
       "      <td>0</td>\n",
       "    </tr>\n",
       "    <tr>\n",
       "      <th>1</th>\n",
       "      <td>16633</td>\n",
       "      <td>178630</td>\n",
       "      <td>299562</td>\n",
       "      <td>carevue</td>\n",
       "      <td>2148-08-15 19:00:00</td>\n",
       "      <td>2148-08-17 20:00:00</td>\n",
       "      <td>300</td>\n",
       "      <td>F</td>\n",
       "      <td>WHITE</td>\n",
       "      <td>EMERGENCY</td>\n",
       "      <td>...</td>\n",
       "      <td>647580</td>\n",
       "      <td>NaN</td>\n",
       "      <td>NaN</td>\n",
       "      <td>NaT</td>\n",
       "      <td>1</td>\n",
       "      <td>0</td>\n",
       "      <td>0</td>\n",
       "      <td>0</td>\n",
       "      <td>0</td>\n",
       "      <td>1</td>\n",
       "    </tr>\n",
       "    <tr>\n",
       "      <th>2</th>\n",
       "      <td>2562</td>\n",
       "      <td>100290</td>\n",
       "      <td>299565</td>\n",
       "      <td>carevue</td>\n",
       "      <td>2116-05-29 16:00:00</td>\n",
       "      <td>2116-06-04 10:00:00</td>\n",
       "      <td>63</td>\n",
       "      <td>M</td>\n",
       "      <td>UNKNOWN/NOT SPECIFIED</td>\n",
       "      <td>EMERGENCY</td>\n",
       "      <td>...</td>\n",
       "      <td>1120560</td>\n",
       "      <td>NaN</td>\n",
       "      <td>40952.0</td>\n",
       "      <td>NaT</td>\n",
       "      <td>0</td>\n",
       "      <td>0</td>\n",
       "      <td>0</td>\n",
       "      <td>0</td>\n",
       "      <td>0</td>\n",
       "      <td>0</td>\n",
       "    </tr>\n",
       "    <tr>\n",
       "      <th>3</th>\n",
       "      <td>29548</td>\n",
       "      <td>182189</td>\n",
       "      <td>299566</td>\n",
       "      <td>metavision</td>\n",
       "      <td>2195-01-18 15:00:00</td>\n",
       "      <td>2195-01-18 15:00:00</td>\n",
       "      <td>300</td>\n",
       "      <td>F</td>\n",
       "      <td>WHITE</td>\n",
       "      <td>EMERGENCY</td>\n",
       "      <td>...</td>\n",
       "      <td>12240</td>\n",
       "      <td>1.0</td>\n",
       "      <td>-15.0</td>\n",
       "      <td>2195-01-18 16:23:00</td>\n",
       "      <td>1</td>\n",
       "      <td>0</td>\n",
       "      <td>1</td>\n",
       "      <td>1</td>\n",
       "      <td>0</td>\n",
       "      <td>1</td>\n",
       "    </tr>\n",
       "    <tr>\n",
       "      <th>4</th>\n",
       "      <td>65723</td>\n",
       "      <td>161935</td>\n",
       "      <td>299568</td>\n",
       "      <td>metavision</td>\n",
       "      <td>2101-04-23 03:00:00</td>\n",
       "      <td>2101-04-24 13:00:00</td>\n",
       "      <td>78</td>\n",
       "      <td>M</td>\n",
       "      <td>WHITE</td>\n",
       "      <td>EMERGENCY</td>\n",
       "      <td>...</td>\n",
       "      <td>1693980</td>\n",
       "      <td>NaN</td>\n",
       "      <td>NaN</td>\n",
       "      <td>NaT</td>\n",
       "      <td>0</td>\n",
       "      <td>0</td>\n",
       "      <td>0</td>\n",
       "      <td>0</td>\n",
       "      <td>0</td>\n",
       "      <td>0</td>\n",
       "    </tr>\n",
       "  </tbody>\n",
       "</table>\n",
       "<p>5 rows × 25 columns</p>\n",
       "</div>"
      ],
      "text/plain": [
       "   subject_id  hadm_id  icustay_id    dbsource              intime  \\\n",
       "0       96169   169105      299561  metavision 2174-07-16 18:00:00   \n",
       "1       16633   178630      299562     carevue 2148-08-15 19:00:00   \n",
       "2        2562   100290      299565     carevue 2116-05-29 16:00:00   \n",
       "3       29548   182189      299566  metavision 2195-01-18 15:00:00   \n",
       "4       65723   161935      299568  metavision 2101-04-23 03:00:00   \n",
       "\n",
       "              outtime  age gender              ethnicity admission_type  ...  \\\n",
       "0 2174-07-17 12:00:00   48      M                  WHITE      EMERGENCY  ...   \n",
       "1 2148-08-17 20:00:00  300      F                  WHITE      EMERGENCY  ...   \n",
       "2 2116-06-04 10:00:00   63      M  UNKNOWN/NOT SPECIFIED      EMERGENCY  ...   \n",
       "3 2195-01-18 15:00:00  300      F                  WHITE      EMERGENCY  ...   \n",
       "4 2101-04-24 13:00:00   78      M                  WHITE      EMERGENCY  ...   \n",
       "\n",
       "   hosp_los  hosp_deathtime_hours  deathtime_hours    deadthtime_check  \\\n",
       "0    339060                   NaN              NaN                 NaT   \n",
       "1    647580                   NaN              NaN                 NaT   \n",
       "2   1120560                   NaN          40952.0                 NaT   \n",
       "3     12240                   1.0            -15.0 2195-01-18 16:23:00   \n",
       "4   1693980                   NaN              NaN                 NaT   \n",
       "\n",
       "   exclusion_adult  exclusion_valid_data  exclusion_short_stay_4hr  \\\n",
       "0                0                     0                         0   \n",
       "1                1                     0                         0   \n",
       "2                0                     0                         0   \n",
       "3                1                     0                         1   \n",
       "4                0                     0                         0   \n",
       "\n",
       "   exclusion_short_stay_1hr exclusion_organ_donor  excluded  \n",
       "0                         0                     0         0  \n",
       "1                         0                     0         1  \n",
       "2                         0                     0         0  \n",
       "3                         1                     0         1  \n",
       "4                         0                     0         0  \n",
       "\n",
       "[5 rows x 25 columns]"
      ]
     },
     "execution_count": 5,
     "metadata": {},
     "output_type": "execute_result"
    }
   ],
   "source": [
    "query = \"\"\"select * from DATABASE.mp_cohort\"\"\"\n",
    "cursor.execute(query.replace(\"DATABASE\", gluedatabase))\n",
    "cohort = as_pandas(cursor)\n",
    "print(cohort.shape)\n",
    "cohort.head()"
   ]
  },
  {
   "cell_type": "code",
   "execution_count": 6,
   "metadata": {},
   "outputs": [
    {
     "name": "stdout",
     "output_type": "stream",
     "text": [
      "Number of distinct ICU stays:  49610\n",
      "Number of distinct patients:  36322\n"
     ]
    }
   ],
   "source": [
    "# study population after filtering\n",
    "study_cohort = cohort[cohort.excluded==0] \n",
    "print('Number of distinct ICU stays: ', study_cohort.icustay_id.unique().shape[0])\n",
    "print('Number of distinct patients: ', study_cohort.subject_id.unique().shape[0])"
   ]
  },
  {
   "cell_type": "code",
   "execution_count": 7,
   "metadata": {},
   "outputs": [
    {
     "data": {
      "text/html": [
       "<div>\n",
       "<style scoped>\n",
       "    .dataframe tbody tr th:only-of-type {\n",
       "        vertical-align: middle;\n",
       "    }\n",
       "\n",
       "    .dataframe tbody tr th {\n",
       "        vertical-align: top;\n",
       "    }\n",
       "\n",
       "    .dataframe thead th {\n",
       "        text-align: right;\n",
       "    }\n",
       "</style>\n",
       "<table border=\"1\" class=\"dataframe\">\n",
       "  <thead>\n",
       "    <tr style=\"text-align: right;\">\n",
       "      <th></th>\n",
       "      <th>age</th>\n",
       "    </tr>\n",
       "  </thead>\n",
       "  <tbody>\n",
       "    <tr>\n",
       "      <th>count</th>\n",
       "      <td>36322.000000</td>\n",
       "    </tr>\n",
       "    <tr>\n",
       "      <th>mean</th>\n",
       "      <td>62.139557</td>\n",
       "    </tr>\n",
       "    <tr>\n",
       "      <th>std</th>\n",
       "      <td>16.899461</td>\n",
       "    </tr>\n",
       "    <tr>\n",
       "      <th>min</th>\n",
       "      <td>17.000000</td>\n",
       "    </tr>\n",
       "    <tr>\n",
       "      <th>25%</th>\n",
       "      <td>51.000000</td>\n",
       "    </tr>\n",
       "    <tr>\n",
       "      <th>50%</th>\n",
       "      <td>64.000000</td>\n",
       "    </tr>\n",
       "    <tr>\n",
       "      <th>75%</th>\n",
       "      <td>76.000000</td>\n",
       "    </tr>\n",
       "    <tr>\n",
       "      <th>max</th>\n",
       "      <td>89.000000</td>\n",
       "    </tr>\n",
       "  </tbody>\n",
       "</table>\n",
       "</div>"
      ],
      "text/plain": [
       "                age\n",
       "count  36322.000000\n",
       "mean      62.139557\n",
       "std       16.899461\n",
       "min       17.000000\n",
       "25%       51.000000\n",
       "50%       64.000000\n",
       "75%       76.000000\n",
       "max       89.000000"
      ]
     },
     "execution_count": 7,
     "metadata": {},
     "output_type": "execute_result"
    }
   ],
   "source": [
    "# age distribution\n",
    "study_cohort[['subject_id','age']].groupby('subject_id').max().describe()"
   ]
  },
  {
   "cell_type": "code",
   "execution_count": 8,
   "metadata": {},
   "outputs": [
    {
     "name": "stdout",
     "output_type": "stream",
     "text": [
      "Gender ratio (male:all):  0.5779692748196685\n",
      "Gender distribution:\n",
      " M    20993\n",
      "F    15329\n",
      "Name: gender, dtype: int64\n"
     ]
    }
   ],
   "source": [
    "# gender distribution\n",
    "gender_dist = study_cohort[['subject_id','gender']].groupby('subject_id').max().gender.value_counts()\n",
    "print('Gender ratio (male:all): ', gender_dist[0]/gender_dist.sum())\n",
    "print('Gender distribution:\\n',gender_dist)"
   ]
  },
  {
   "cell_type": "code",
   "execution_count": 9,
   "metadata": {},
   "outputs": [
    {
     "name": "stdout",
     "output_type": "stream",
     "text": [
      "White:  0.7100655250261549\n",
      "Top 5 ethnicity:\n",
      " WHITE                     25567\n",
      "UNKNOWN/NOT SPECIFIED      3493\n",
      "BLACK/AFRICAN AMERICAN     2593\n",
      "HISPANIC OR LATINO          938\n",
      "OTHER                       852\n",
      "Name: ethnicity, dtype: int64\n"
     ]
    }
   ],
   "source": [
    "# ethnicity distribution\n",
    "ethnicity_dist = study_cohort[['subject_id','ethnicity']].groupby('subject_id').max().ethnicity.value_counts()\n",
    "white = sum([ethnicity_dist[0], ethnicity_dist[11], ethnicity_dist[14], ethnicity_dist[17], ethnicity_dist[23]])\n",
    "print('White: ', white/ethnicity_dist.sum())\n",
    "print('Top 5 ethnicity:\\n', ethnicity_dist[:5] )"
   ]
  },
  {
   "cell_type": "code",
   "execution_count": 10,
   "metadata": {},
   "outputs": [
    {
     "name": "stdout",
     "output_type": "stream",
     "text": [
      "Emergency:  0.823027366334453\n",
      "All admission types:\n",
      " EMERGENCY    29894\n",
      "ELECTIVE      5267\n",
      "URGENT        1161\n",
      "Name: admission_type, dtype: int64\n"
     ]
    }
   ],
   "source": [
    "# admission type\n",
    "admissiontype_dist = study_cohort[['subject_id','admission_type']].groupby('subject_id').max().admission_type.value_counts()\n",
    "print('Emergency: ', admissiontype_dist[0]/admissiontype_dist.sum())\n",
    "print('All admission types:\\n',admissiontype_dist)"
   ]
  },
  {
   "cell_type": "code",
   "execution_count": 11,
   "metadata": {},
   "outputs": [
    {
     "data": {
      "text/html": [
       "<div>\n",
       "<style scoped>\n",
       "    .dataframe tbody tr th:only-of-type {\n",
       "        vertical-align: middle;\n",
       "    }\n",
       "\n",
       "    .dataframe tbody tr th {\n",
       "        vertical-align: top;\n",
       "    }\n",
       "\n",
       "    .dataframe thead th {\n",
       "        text-align: right;\n",
       "    }\n",
       "</style>\n",
       "<table border=\"1\" class=\"dataframe\">\n",
       "  <thead>\n",
       "    <tr style=\"text-align: right;\">\n",
       "      <th></th>\n",
       "      <th>icustay_num</th>\n",
       "    </tr>\n",
       "  </thead>\n",
       "  <tbody>\n",
       "    <tr>\n",
       "      <th>count</th>\n",
       "      <td>36322.000000</td>\n",
       "    </tr>\n",
       "    <tr>\n",
       "      <th>mean</th>\n",
       "      <td>1.366087</td>\n",
       "    </tr>\n",
       "    <tr>\n",
       "      <th>std</th>\n",
       "      <td>1.060998</td>\n",
       "    </tr>\n",
       "    <tr>\n",
       "      <th>min</th>\n",
       "      <td>1.000000</td>\n",
       "    </tr>\n",
       "    <tr>\n",
       "      <th>25%</th>\n",
       "      <td>1.000000</td>\n",
       "    </tr>\n",
       "    <tr>\n",
       "      <th>50%</th>\n",
       "      <td>1.000000</td>\n",
       "    </tr>\n",
       "    <tr>\n",
       "      <th>75%</th>\n",
       "      <td>1.000000</td>\n",
       "    </tr>\n",
       "    <tr>\n",
       "      <th>max</th>\n",
       "      <td>41.000000</td>\n",
       "    </tr>\n",
       "  </tbody>\n",
       "</table>\n",
       "</div>"
      ],
      "text/plain": [
       "        icustay_num\n",
       "count  36322.000000\n",
       "mean       1.366087\n",
       "std        1.060998\n",
       "min        1.000000\n",
       "25%        1.000000\n",
       "50%        1.000000\n",
       "75%        1.000000\n",
       "max       41.000000"
      ]
     },
     "execution_count": 11,
     "metadata": {},
     "output_type": "execute_result"
    }
   ],
   "source": [
    "# num of ICU stays\n",
    "study_cohort[['subject_id','icustay_num']].groupby('subject_id').max().describe()"
   ]
  },
  {
   "cell_type": "code",
   "execution_count": 12,
   "metadata": {},
   "outputs": [
    {
     "name": "stdout",
     "output_type": "stream",
     "text": [
      "In-hospital mortality ratio: 0.11616609554525298\n",
      "In-hospital mortality distribution:\n",
      " 0    43847\n",
      "1     5763\n",
      "Name: hospital_expire_flag, dtype: int64\n"
     ]
    }
   ],
   "source": [
    "# in-hospital mortality ratio\n",
    "mortality_dist = study_cohort.hospital_expire_flag.value_counts()\n",
    "print('In-hospital mortality ratio:' , mortality_dist[1]/mortality_dist.sum())\n",
    "print('In-hospital mortality distribution:\\n', mortality_dist)"
   ]
  },
  {
   "cell_type": "code",
   "execution_count": 13,
   "metadata": {},
   "outputs": [
    {
     "name": "stdout",
     "output_type": "stream",
     "text": [
      "Num of in-hospital mortality:  5763\n"
     ]
    }
   ],
   "source": [
    "print('Num of in-hospital mortality: ', study_cohort[study_cohort.hospital_expire_flag==1].shape[0])"
   ]
  },
  {
   "cell_type": "code",
   "execution_count": 14,
   "metadata": {},
   "outputs": [
    {
     "name": "stdout",
     "output_type": "stream",
     "text": [
      "Num of in-hospital mortality (negative death time filtered out):  5715\n"
     ]
    }
   ],
   "source": [
    "# filter out ICU stays with negative death time \n",
    "# which is likely an administrative error resulting in an incorrect ICU admission or incorrect death time\n",
    "dead_patients = study_cohort[(study_cohort.hospital_expire_flag==1) & (study_cohort.hosp_deathtime_hours>=0)]\n",
    "print('Num of in-hospital mortality (negative death time filtered out): ', dead_patients.shape[0])"
   ]
  },
  {
   "cell_type": "code",
   "execution_count": 15,
   "metadata": {},
   "outputs": [
    {
     "data": {
      "text/plain": [
       "count    5715.000000\n",
       "mean      228.881540\n",
       "std       312.203682\n",
       "min         0.000000\n",
       "25%        44.000000\n",
       "50%       129.000000\n",
       "75%       289.500000\n",
       "max      4952.000000\n",
       "Name: hosp_deathtime_hours, dtype: float64"
      ]
     },
     "execution_count": 15,
     "metadata": {},
     "output_type": "execute_result"
    }
   ],
   "source": [
    "# death time distribution among dead patients (in hours)\n",
    "dead_patients.hosp_deathtime_hours.describe()"
   ]
  },
  {
   "cell_type": "code",
   "execution_count": 16,
   "metadata": {},
   "outputs": [
    {
     "data": {
      "text/plain": [
       "count    238.125000\n",
       "mean       9.536731\n",
       "std       13.008487\n",
       "min        0.000000\n",
       "25%        1.833333\n",
       "50%        5.375000\n",
       "75%       12.062500\n",
       "max      206.333333\n",
       "Name: hosp_deathtime_hours, dtype: float64"
      ]
     },
     "execution_count": 16,
     "metadata": {},
     "output_type": "execute_result"
    }
   ],
   "source": [
    "# death time distribution among dead patients (in days)\n",
    "dead_patients.hosp_deathtime_hours.describe()/24"
   ]
  },
  {
   "cell_type": "code",
   "execution_count": 17,
   "metadata": {},
   "outputs": [
    {
     "data": {
      "image/png": "[encoded data removed]",
      "text/plain": [
       "<Figure size 720x576 with 1 Axes>"
      ]
     },
     "metadata": {
      "image/png": {
       "height": 473,
       "width": 621
      }
     },
     "output_type": "display_data"
    }
   ],
   "source": [
    "# Box plot of death time in hours since ICU admission\n",
    "matplotlib.rcParams.update({'font.size': 16})\n",
    "fig = plt.figure()\n",
    "fig.set_size_inches(10,8)\n",
    "plt.boxplot(dead_patients.hosp_deathtime_hours.tolist())\n",
    "fig.savefig('./img/figure1.png')\n",
    "plt.show()"
   ]
  },
  {
   "cell_type": "code",
   "execution_count": 18,
   "metadata": {},
   "outputs": [
    {
     "data": {
      "image/png": "[encoded data removed]",
      "text/plain": [
       "<Figure size 1080x432 with 1 Axes>"
      ]
     },
     "metadata": {
      "image/png": {
       "height": 390,
       "width": 903
      }
     },
     "output_type": "display_data"
    }
   ],
   "source": [
    "# Histogram of death time in days since ICU admission\n",
    "plt.style.use('ggplot')\n",
    "fig = plt.figure()\n",
    "fig.set_size_inches(15,6)\n",
    "ax = plt.axes()\n",
    "ax.set_xlim(0, 100)\n",
    "ax.xaxis.set_major_locator(ticker.MultipleLocator(10))\n",
    "ax.xaxis.set_minor_locator(ticker.MultipleLocator(1))\n",
    "\n",
    "data = (dead_patients[['icustay_id','hosp_deathtime_hours']]/24).astype(int)\n",
    "data = data.groupby('hosp_deathtime_hours').size()\n",
    "plt.bar(data.index, data, align='center')\n",
    "plt.xlabel('Death time in days')\n",
    "plt.ylabel('Count')\n",
    "plt.title('Death time in days for in-hospital mortality (truncated to 100 days)')\n",
    "fig.savefig('./img/figure2.png')\n",
    "plt.show()"
   ]
  },
  {
   "cell_type": "code",
   "execution_count": 19,
   "metadata": {},
   "outputs": [
    {
     "name": "stdout",
     "output_type": "stream",
     "text": [
      "Cutoff hours:  24 hours and 168 hours\n",
      "Class 0 size 865\n",
      "Class 1 size 2496\n",
      "Class 2 size 2354\n"
     ]
    }
   ],
   "source": [
    "# class label distribution of death time in hours\n",
    "cutoff1 = 24\n",
    "cutoff2 = 24*7\n",
    "print('Cutoff hours: ', cutoff1, 'hours and', cutoff2, 'hours')\n",
    "print('Class 0 size', len([x for x in dead_patients.hosp_deathtime_hours.tolist() if x < cutoff1]))\n",
    "print('Class 1 size', len([x for x in dead_patients.hosp_deathtime_hours.tolist() if cutoff1 <= x < cutoff2]))\n",
    "print('Class 2 size', len([x for x in dead_patients.hosp_deathtime_hours.tolist() if x >= cutoff2]))"
   ]
  },
  {
   "cell_type": "code",
   "execution_count": null,
   "metadata": {},
   "outputs": [],
   "source": []
  }
 ],
 "metadata": {
  "kernelspec": {
   "display_name": "conda_python3",
   "language": "python",
   "name": "conda_python3"
  },
  "language_info": {
   "codemirror_mode": {
    "name": "ipython",
    "version": 3
   },
   "file_extension": ".py",
   "mimetype": "text/x-python",
   "name": "python",
   "nbconvert_exporter": "python",
   "pygments_lexer": "ipython3",
   "version": "3.6.5"
  }
 },
 "nbformat": 4,
 "nbformat_minor": 2
}
